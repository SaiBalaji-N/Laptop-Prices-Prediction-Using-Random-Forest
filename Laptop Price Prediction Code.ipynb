{
 "cells": [
  {
   "cell_type": "code",
   "execution_count": 1,
   "metadata": {
    "id": "oNFVRzSG-U_f"
   },
   "outputs": [],
   "source": [
    "import numpy as np\n",
    "import pandas as pd"
   ]
  },
  {
   "cell_type": "code",
   "execution_count": 2,
   "metadata": {
    "id": "Dis8XyzpAIzO"
   },
   "outputs": [],
   "source": [
    "df=pd.read_csv(\"C:/Users/bsai3/Downloads/Laptop Prices Data.csv\")"
   ]
  },
  {
   "cell_type": "code",
   "execution_count": 3,
   "metadata": {
    "colab": {
     "base_uri": "https://localhost:8080/",
     "height": 310
    },
    "id": "IDBC0uDnDtdF",
    "outputId": "8ac9fa28-058d-4edf-8008-cf67399399fc"
   },
   "outputs": [
    {
     "data": {
      "text/html": [
       "<div>\n",
       "<style scoped>\n",
       "    .dataframe tbody tr th:only-of-type {\n",
       "        vertical-align: middle;\n",
       "    }\n",
       "\n",
       "    .dataframe tbody tr th {\n",
       "        vertical-align: top;\n",
       "    }\n",
       "\n",
       "    .dataframe thead th {\n",
       "        text-align: right;\n",
       "    }\n",
       "</style>\n",
       "<table border=\"1\" class=\"dataframe\">\n",
       "  <thead>\n",
       "    <tr style=\"text-align: right;\">\n",
       "      <th></th>\n",
       "      <th>Unnamed: 0</th>\n",
       "      <th>Company</th>\n",
       "      <th>TypeName</th>\n",
       "      <th>Inches</th>\n",
       "      <th>ScreenResolution</th>\n",
       "      <th>Cpu</th>\n",
       "      <th>Ram</th>\n",
       "      <th>Memory</th>\n",
       "      <th>Gpu</th>\n",
       "      <th>OpSys</th>\n",
       "      <th>Weight</th>\n",
       "      <th>Price</th>\n",
       "    </tr>\n",
       "  </thead>\n",
       "  <tbody>\n",
       "    <tr>\n",
       "      <th>0</th>\n",
       "      <td>0.0</td>\n",
       "      <td>Apple</td>\n",
       "      <td>Ultrabook</td>\n",
       "      <td>13.3</td>\n",
       "      <td>IPS Panel Retina Display 2560x1600</td>\n",
       "      <td>Intel Core i5 2.3GHz</td>\n",
       "      <td>8GB</td>\n",
       "      <td>128GB SSD</td>\n",
       "      <td>Intel Iris Plus Graphics 640</td>\n",
       "      <td>macOS</td>\n",
       "      <td>1.37kg</td>\n",
       "      <td>71378.6832</td>\n",
       "    </tr>\n",
       "    <tr>\n",
       "      <th>1</th>\n",
       "      <td>1.0</td>\n",
       "      <td>Apple</td>\n",
       "      <td>Ultrabook</td>\n",
       "      <td>13.3</td>\n",
       "      <td>1440x900</td>\n",
       "      <td>Intel Core i5 1.8GHz</td>\n",
       "      <td>8GB</td>\n",
       "      <td>128GB Flash Storage</td>\n",
       "      <td>Intel HD Graphics 6000</td>\n",
       "      <td>macOS</td>\n",
       "      <td>1.34kg</td>\n",
       "      <td>47895.5232</td>\n",
       "    </tr>\n",
       "    <tr>\n",
       "      <th>2</th>\n",
       "      <td>2.0</td>\n",
       "      <td>HP</td>\n",
       "      <td>Notebook</td>\n",
       "      <td>15.6</td>\n",
       "      <td>Full HD 1920x1080</td>\n",
       "      <td>Intel Core i5 7200U 2.5GHz</td>\n",
       "      <td>8GB</td>\n",
       "      <td>256GB SSD</td>\n",
       "      <td>Intel HD Graphics 620</td>\n",
       "      <td>No OS</td>\n",
       "      <td>1.86kg</td>\n",
       "      <td>30636.0000</td>\n",
       "    </tr>\n",
       "    <tr>\n",
       "      <th>3</th>\n",
       "      <td>3.0</td>\n",
       "      <td>Apple</td>\n",
       "      <td>Ultrabook</td>\n",
       "      <td>15.4</td>\n",
       "      <td>IPS Panel Retina Display 2880x1800</td>\n",
       "      <td>Intel Core i7 2.7GHz</td>\n",
       "      <td>16GB</td>\n",
       "      <td>512GB SSD</td>\n",
       "      <td>AMD Radeon Pro 455</td>\n",
       "      <td>macOS</td>\n",
       "      <td>1.83kg</td>\n",
       "      <td>135195.3360</td>\n",
       "    </tr>\n",
       "    <tr>\n",
       "      <th>4</th>\n",
       "      <td>4.0</td>\n",
       "      <td>Apple</td>\n",
       "      <td>Ultrabook</td>\n",
       "      <td>13.3</td>\n",
       "      <td>IPS Panel Retina Display 2560x1600</td>\n",
       "      <td>Intel Core i5 3.1GHz</td>\n",
       "      <td>8GB</td>\n",
       "      <td>256GB SSD</td>\n",
       "      <td>Intel Iris Plus Graphics 650</td>\n",
       "      <td>macOS</td>\n",
       "      <td>1.37kg</td>\n",
       "      <td>96095.8080</td>\n",
       "    </tr>\n",
       "  </tbody>\n",
       "</table>\n",
       "</div>"
      ],
      "text/plain": [
       "   Unnamed: 0 Company   TypeName Inches                    ScreenResolution  \\\n",
       "0         0.0   Apple  Ultrabook   13.3  IPS Panel Retina Display 2560x1600   \n",
       "1         1.0   Apple  Ultrabook   13.3                            1440x900   \n",
       "2         2.0      HP   Notebook   15.6                   Full HD 1920x1080   \n",
       "3         3.0   Apple  Ultrabook   15.4  IPS Panel Retina Display 2880x1800   \n",
       "4         4.0   Apple  Ultrabook   13.3  IPS Panel Retina Display 2560x1600   \n",
       "\n",
       "                          Cpu   Ram               Memory  \\\n",
       "0        Intel Core i5 2.3GHz   8GB            128GB SSD   \n",
       "1        Intel Core i5 1.8GHz   8GB  128GB Flash Storage   \n",
       "2  Intel Core i5 7200U 2.5GHz   8GB            256GB SSD   \n",
       "3        Intel Core i7 2.7GHz  16GB            512GB SSD   \n",
       "4        Intel Core i5 3.1GHz   8GB            256GB SSD   \n",
       "\n",
       "                            Gpu  OpSys  Weight        Price  \n",
       "0  Intel Iris Plus Graphics 640  macOS  1.37kg   71378.6832  \n",
       "1        Intel HD Graphics 6000  macOS  1.34kg   47895.5232  \n",
       "2         Intel HD Graphics 620  No OS  1.86kg   30636.0000  \n",
       "3            AMD Radeon Pro 455  macOS  1.83kg  135195.3360  \n",
       "4  Intel Iris Plus Graphics 650  macOS  1.37kg   96095.8080  "
      ]
     },
     "execution_count": 3,
     "metadata": {},
     "output_type": "execute_result"
    }
   ],
   "source": [
    "df.head()"
   ]
  },
  {
   "cell_type": "code",
   "execution_count": 4,
   "metadata": {
    "colab": {
     "base_uri": "https://localhost:8080/"
    },
    "id": "veHJ97igD3Ri",
    "outputId": "b7367453-34ff-44b1-c148-16c674085a25"
   },
   "outputs": [
    {
     "name": "stdout",
     "output_type": "stream",
     "text": [
      "<class 'pandas.core.frame.DataFrame'>\n",
      "RangeIndex: 1303 entries, 0 to 1302\n",
      "Data columns (total 12 columns):\n",
      " #   Column            Non-Null Count  Dtype  \n",
      "---  ------            --------------  -----  \n",
      " 0   Unnamed: 0        1273 non-null   float64\n",
      " 1   Company           1273 non-null   object \n",
      " 2   TypeName          1273 non-null   object \n",
      " 3   Inches            1273 non-null   object \n",
      " 4   ScreenResolution  1273 non-null   object \n",
      " 5   Cpu               1273 non-null   object \n",
      " 6   Ram               1273 non-null   object \n",
      " 7   Memory            1273 non-null   object \n",
      " 8   Gpu               1273 non-null   object \n",
      " 9   OpSys             1273 non-null   object \n",
      " 10  Weight            1273 non-null   object \n",
      " 11  Price             1273 non-null   float64\n",
      "dtypes: float64(2), object(10)\n",
      "memory usage: 122.3+ KB\n"
     ]
    }
   ],
   "source": [
    "df.info()"
   ]
  },
  {
   "cell_type": "code",
   "execution_count": 5,
   "metadata": {
    "colab": {
     "base_uri": "https://localhost:8080/"
    },
    "id": "XbUoEEmZECjh",
    "outputId": "0733b8c5-b48f-4012-9173-6f858227e34e"
   },
   "outputs": [
    {
     "data": {
      "text/plain": [
       "Unnamed: 0          30\n",
       "Company             30\n",
       "TypeName            30\n",
       "Inches              30\n",
       "ScreenResolution    30\n",
       "Cpu                 30\n",
       "Ram                 30\n",
       "Memory              30\n",
       "Gpu                 30\n",
       "OpSys               30\n",
       "Weight              30\n",
       "Price               30\n",
       "dtype: int64"
      ]
     },
     "execution_count": 5,
     "metadata": {},
     "output_type": "execute_result"
    }
   ],
   "source": [
    "df.isna().sum()"
   ]
  },
  {
   "cell_type": "markdown",
   "metadata": {},
   "source": [
    "# Data Cleaning"
   ]
  },
  {
   "cell_type": "code",
   "execution_count": 6,
   "metadata": {
    "id": "FPe2tsdREKZf"
   },
   "outputs": [],
   "source": [
    "df.drop([\"Unnamed: 0\"],axis=1,inplace=True)"
   ]
  },
  {
   "cell_type": "code",
   "execution_count": 7,
   "metadata": {
    "colab": {
     "base_uri": "https://localhost:8080/"
    },
    "id": "x5xAiND6Ed4p",
    "outputId": "cf9b67e6-65a2-49e6-b120-120b0abfd52a"
   },
   "outputs": [
    {
     "data": {
      "text/plain": [
       "array(['Apple', 'HP', 'Acer', 'Asus', 'Dell', 'Lenovo', nan, 'Chuwi',\n",
       "       'MSI', 'Microsoft', 'Toshiba', 'Huawei', 'Xiaomi', 'Vero', 'Razer',\n",
       "       'Mediacom', 'Samsung', 'Google', 'Fujitsu', 'LG'], dtype=object)"
      ]
     },
     "execution_count": 7,
     "metadata": {},
     "output_type": "execute_result"
    }
   ],
   "source": [
    "df[\"Company\"].unique()"
   ]
  },
  {
   "cell_type": "code",
   "execution_count": 8,
   "metadata": {
    "id": "pTgrWqohEoS_"
   },
   "outputs": [],
   "source": [
    "df.dropna(inplace=True)"
   ]
  },
  {
   "cell_type": "code",
   "execution_count": 9,
   "metadata": {
    "colab": {
     "base_uri": "https://localhost:8080/"
    },
    "id": "QTPSvTDEEu5w",
    "outputId": "b0dba74a-8a54-4927-b233-34b59ea9c832"
   },
   "outputs": [
    {
     "data": {
      "text/plain": [
       "Company             0\n",
       "TypeName            0\n",
       "Inches              0\n",
       "ScreenResolution    0\n",
       "Cpu                 0\n",
       "Ram                 0\n",
       "Memory              0\n",
       "Gpu                 0\n",
       "OpSys               0\n",
       "Weight              0\n",
       "Price               0\n",
       "dtype: int64"
      ]
     },
     "execution_count": 9,
     "metadata": {},
     "output_type": "execute_result"
    }
   ],
   "source": [
    "df.isna().sum()"
   ]
  },
  {
   "cell_type": "code",
   "execution_count": 10,
   "metadata": {
    "colab": {
     "base_uri": "https://localhost:8080/"
    },
    "id": "SVJBqYJpE0nU",
    "outputId": "b5d5f452-8398-4201-ac42-eb6e748b7bd2"
   },
   "outputs": [
    {
     "name": "stdout",
     "output_type": "stream",
     "text": [
      "<class 'pandas.core.frame.DataFrame'>\n",
      "Int64Index: 1273 entries, 0 to 1302\n",
      "Data columns (total 11 columns):\n",
      " #   Column            Non-Null Count  Dtype  \n",
      "---  ------            --------------  -----  \n",
      " 0   Company           1273 non-null   object \n",
      " 1   TypeName          1273 non-null   object \n",
      " 2   Inches            1273 non-null   object \n",
      " 3   ScreenResolution  1273 non-null   object \n",
      " 4   Cpu               1273 non-null   object \n",
      " 5   Ram               1273 non-null   object \n",
      " 6   Memory            1273 non-null   object \n",
      " 7   Gpu               1273 non-null   object \n",
      " 8   OpSys             1273 non-null   object \n",
      " 9   Weight            1273 non-null   object \n",
      " 10  Price             1273 non-null   float64\n",
      "dtypes: float64(1), object(10)\n",
      "memory usage: 119.3+ KB\n"
     ]
    }
   ],
   "source": [
    "df.info()"
   ]
  },
  {
   "cell_type": "code",
   "execution_count": 11,
   "metadata": {
    "id": "qfg020T8FXGs"
   },
   "outputs": [],
   "source": [
    "df=df.drop(index=df[df[\"Weight\"]==\"?\"].index)"
   ]
  },
  {
   "cell_type": "code",
   "execution_count": 12,
   "metadata": {
    "colab": {
     "base_uri": "https://localhost:8080/"
    },
    "id": "vmunfdjVI3s-",
    "outputId": "519f228b-7072-45c5-f8fb-6653118556f8"
   },
   "outputs": [
    {
     "data": {
      "text/plain": [
       "array(['1.37kg', '1.34kg', '1.86kg', '1.83kg', '2.1kg', '2.04kg', '1.3kg',\n",
       "       '1.6kg', '2.2kg', '0.92kg', '1.22kg', '2.5kg', '1.62kg', '1.91kg',\n",
       "       '2.3kg', '1.35kg', '1.88kg', '1.89kg', '1.65kg', '2.71kg', '1.2kg',\n",
       "       '1.44kg', '2.8kg', '2kg', '2.65kg', '2.77kg', '3.2kg', '1.49kg',\n",
       "       '2.4kg', '2.13kg', '2.43kg', '1.7kg', '1.4kg', '1.8kg', '1.9kg',\n",
       "       '3kg', '1.252kg', '2.7kg', '2.02kg', '1.63kg', '1.96kg', '1.21kg',\n",
       "       '2.45kg', '1.25kg', '1.5kg', '2.62kg', '1.38kg', '1.58kg',\n",
       "       '1.85kg', '1.23kg', '2.16kg', '2.36kg', '7.2kg', '2.05kg',\n",
       "       '1.32kg', '1.75kg', '0.97kg', '2.56kg', '1.48kg', '1.74kg',\n",
       "       '1.1kg', '1.56kg', '2.03kg', '1.05kg', '5.4kg', '4.4kg', '1.90kg',\n",
       "       '1.29kg', '2.0kg', '1.95kg', '2.06kg', '1.12kg', '3.49kg',\n",
       "       '3.35kg', '2.23kg', '2.9kg', '4.42kg', '2.69kg', '2.37kg', '4.7kg',\n",
       "       '3.6kg', '2.08kg', '4.3kg', '1.68kg', '1.41kg', '4.14kg', '2.18kg',\n",
       "       '2.24kg', '2.67kg', '4.1kg', '2.14kg', '1.36kg', '2.25kg',\n",
       "       '2.15kg', '2.19kg', '2.54kg', '3.42kg', '5.8kg', '1.28kg',\n",
       "       '2.33kg', '1.45kg', '2.79kg', '8.23kg', '1.26kg', '1.84kg',\n",
       "       '0.0002kg', '2.6kg', '2.26kg', '3.25kg', '1.59kg', '1.13kg',\n",
       "       '1.42kg', '1.78kg', '1.10kg', '1.15kg', '1.27kg', '1.43kg',\n",
       "       '2.31kg', '1.16kg', '1.64kg', '2.17kg', '1.47kg', '3.78kg',\n",
       "       '1.79kg', '0.91kg', '1.99kg', '4.33kg', '1.93kg', '1.87kg',\n",
       "       '2.63kg', '3.4kg', '3.14kg', '1.94kg', '1.24kg', '4.6kg', '4.5kg',\n",
       "       '8.4kg', '2.73kg', '1.39kg', '2.29kg', '2.59kg', '2.94kg',\n",
       "       '11.1kg', '1.14kg', '3.8kg', '6.2kg', '3.31kg', '1.09kg', '3.21kg',\n",
       "       '1.19kg', '1.98kg', '1.17kg', '4.36kg', '1.71kg', '2.32kg',\n",
       "       '4.2kg', '1.55kg', '0.81kg', '1.18kg', '2.72kg', '1.31kg',\n",
       "       '0.920kg', '3.74kg', '1.76kg', '1.54kg', '2.83kg', '2.07kg',\n",
       "       '2.38kg', '3.58kg', '1.08kg', '2.20kg', '0.98kg', '2.75kg',\n",
       "       '1.70kg', '2.99kg', '1.11kg', '2.09kg', '4kg', '3.0kg', '0.99kg',\n",
       "       '0.69kg', '3.52kg', '2.591kg', '2.21kg', '3.3kg', '2.191kg',\n",
       "       '2.34kg', '4.0kg', nan], dtype=object)"
      ]
     },
     "execution_count": 12,
     "metadata": {},
     "output_type": "execute_result"
    }
   ],
   "source": [
    "df[\"weight\"]=df[\"Weight\"][:][:-2]\n",
    "df[\"weight\"].unique()"
   ]
  },
  {
   "cell_type": "code",
   "execution_count": 13,
   "metadata": {
    "id": "i38sUI2vFmZ4"
   },
   "outputs": [],
   "source": [
    "df.dropna(inplace=True)"
   ]
  },
  {
   "cell_type": "code",
   "execution_count": 14,
   "metadata": {
    "id": "cO90YbCzKBPX"
   },
   "outputs": [],
   "source": [
    "df[\"Weight\"]=df[\"Weight\"].str.replace(\"kg\",\"\")"
   ]
  },
  {
   "cell_type": "code",
   "execution_count": 15,
   "metadata": {
    "colab": {
     "base_uri": "https://localhost:8080/"
    },
    "id": "MBH7jeszLrhP",
    "outputId": "a64888b1-3481-455d-891e-cd1d3ac9e8b5"
   },
   "outputs": [
    {
     "data": {
      "text/plain": [
       "0       1.37\n",
       "1       1.34\n",
       "2       1.86\n",
       "3       1.83\n",
       "4       1.37\n",
       "        ... \n",
       "1296    1.17\n",
       "1297     2.2\n",
       "1298     1.8\n",
       "1299     1.3\n",
       "1300     1.5\n",
       "Name: Weight, Length: 1270, dtype: object"
      ]
     },
     "execution_count": 15,
     "metadata": {},
     "output_type": "execute_result"
    }
   ],
   "source": [
    "df[\"Weight\"]"
   ]
  },
  {
   "cell_type": "code",
   "execution_count": 16,
   "metadata": {
    "colab": {
     "base_uri": "https://localhost:8080/"
    },
    "id": "wq1tIXnyKFPE",
    "outputId": "46290d83-320b-4342-f865-050076195f4b"
   },
   "outputs": [
    {
     "data": {
      "text/plain": [
       "array([ 1.37,  1.34,  1.86,  1.83,  2.1 ,  2.04,  1.3 ,  1.6 ,  2.2 ,\n",
       "        0.92,  1.22,  2.5 ,  1.62,  1.91,  2.3 ,  1.35,  1.88,  1.89,\n",
       "        1.65,  2.71,  1.2 ,  1.44,  2.8 ,  2.  ,  2.65,  2.77,  3.2 ,\n",
       "        1.49,  2.4 ,  2.13,  2.43,  1.7 ,  1.4 ,  1.8 ,  1.9 ,  3.  ,\n",
       "        1.25,  2.7 ,  2.02,  1.63,  1.96,  1.21,  2.45,  1.5 ,  2.62,\n",
       "        1.38,  1.58,  1.85,  1.23,  2.16,  2.36,  7.2 ,  2.05,  1.32,\n",
       "        1.75,  0.97,  2.56,  1.48,  1.74,  1.1 ,  1.56,  2.03,  1.05,\n",
       "        5.4 ,  4.4 ,  1.29,  1.95,  2.06,  1.12,  3.49,  3.35,  2.23,\n",
       "        2.9 ,  4.42,  2.69,  2.37,  4.7 ,  3.6 ,  2.08,  4.3 ,  1.68,\n",
       "        1.41,  4.14,  2.18,  2.24,  2.67,  4.1 ,  2.14,  1.36,  2.25,\n",
       "        2.15,  2.19,  2.54,  3.42,  5.8 ,  1.28,  2.33,  1.45,  2.79,\n",
       "        8.23,  1.26,  1.84,  0.  ,  2.6 ,  2.26,  3.25,  1.59,  1.13,\n",
       "        1.42,  1.78,  1.15,  1.27,  1.43,  2.31,  1.16,  1.64,  2.17,\n",
       "        1.47,  3.78,  1.79,  0.91,  1.99,  4.33,  1.93,  1.87,  2.63,\n",
       "        3.4 ,  3.14,  1.94,  1.24,  4.6 ,  4.5 ,  8.4 ,  2.73,  1.39,\n",
       "        2.29,  2.59,  2.94, 11.1 ,  1.14,  3.8 ,  6.2 ,  3.31,  1.09,\n",
       "        3.21,  1.19,  1.98,  1.17,  4.36,  1.71,  2.32,  4.2 ,  1.55,\n",
       "        0.81,  1.18,  2.72,  1.31,  3.74,  1.76,  1.54,  2.83,  2.07,\n",
       "        2.38,  3.58,  1.08,  0.98,  2.75,  2.99,  1.11,  2.09,  4.  ,\n",
       "        0.99,  0.69,  3.52,  2.21,  3.3 ,  2.34])"
      ]
     },
     "execution_count": 16,
     "metadata": {},
     "output_type": "execute_result"
    }
   ],
   "source": [
    "df[\"Weight\"]=pd.to_numeric(df[\"Weight\"])\n",
    "df[\"Weight\"]=df[\"Weight\"].round(2)\n",
    "df[\"Weight\"].unique()"
   ]
  },
  {
   "cell_type": "code",
   "execution_count": 17,
   "metadata": {
    "colab": {
     "base_uri": "https://localhost:8080/"
    },
    "id": "nMypz1uSNmjt",
    "outputId": "e87259f2-99c5-4dde-b9b4-6532958a3551"
   },
   "outputs": [
    {
     "data": {
      "text/plain": [
       "0        8\n",
       "1        8\n",
       "2        8\n",
       "3       16\n",
       "4        8\n",
       "        ..\n",
       "1296     2\n",
       "1297     4\n",
       "1298     4\n",
       "1299    16\n",
       "1300     2\n",
       "Name: Ram, Length: 1270, dtype: int64"
      ]
     },
     "execution_count": 17,
     "metadata": {},
     "output_type": "execute_result"
    }
   ],
   "source": [
    "df[\"Ram\"]=df[\"Ram\"].str.replace(\"GB\",\"\")\n",
    "df[\"Ram\"]=df[\"Ram\"].str.replace(\"TB\",\"\")\n",
    "df[\"Ram\"]=pd.to_numeric(df[\"Ram\"])\n",
    "df[\"Ram\"]"
   ]
  },
  {
   "cell_type": "code",
   "execution_count": 18,
   "metadata": {
    "colab": {
     "base_uri": "https://localhost:8080/"
    },
    "id": "W_xTmmRCRFKp",
    "outputId": "e85add45-b163-4636-82ec-b65105cc104d"
   },
   "outputs": [
    {
     "data": {
      "text/plain": [
       "array(['13.3', '15.6', '15.4', '14', '12', '17.3', '13.5', '12.5', '13',\n",
       "       '18.4', '13.9', '11.6', '25.6', '35.6', '12.3', '27.3', '24',\n",
       "       '33.5', '?', '31.6', '17', '15', '14.1', '11.3', '10.1'],\n",
       "      dtype=object)"
      ]
     },
     "execution_count": 18,
     "metadata": {},
     "output_type": "execute_result"
    }
   ],
   "source": [
    "df[\"Inches\"].unique()"
   ]
  },
  {
   "cell_type": "code",
   "execution_count": 19,
   "metadata": {
    "colab": {
     "base_uri": "https://localhost:8080/"
    },
    "id": "rdhS2PEkRrGf",
    "outputId": "c72e5048-6fa5-4abb-edf1-d972c05484e5"
   },
   "outputs": [
    {
     "data": {
      "text/plain": [
       "array(['13.3', '15.6', '15.4', '14', '12', '17.3', '13.5', '12.5', '13',\n",
       "       '18.4', '13.9', '11.6', '25.6', '35.6', '12.3', '27.3', '24',\n",
       "       '33.5', '31.6', '17', '15', '14.1', '11.3', '10.1'], dtype=object)"
      ]
     },
     "execution_count": 19,
     "metadata": {},
     "output_type": "execute_result"
    }
   ],
   "source": [
    "df=df.drop(index=df[df[\"Inches\"]==\"?\"].index)\n",
    "df[\"Inches\"].unique()"
   ]
  },
  {
   "cell_type": "code",
   "execution_count": 20,
   "metadata": {
    "colab": {
     "base_uri": "https://localhost:8080/"
    },
    "id": "8GsAXgCTR1QA",
    "outputId": "357ed61c-4537-42cb-cf20-d466ce51fc7b"
   },
   "outputs": [
    {
     "name": "stdout",
     "output_type": "stream",
     "text": [
      "<class 'pandas.core.series.Series'>\n",
      "Int64Index: 1269 entries, 0 to 1300\n",
      "Series name: Inches\n",
      "Non-Null Count  Dtype  \n",
      "--------------  -----  \n",
      "1269 non-null   float64\n",
      "dtypes: float64(1)\n",
      "memory usage: 19.8 KB\n"
     ]
    }
   ],
   "source": [
    "df[\"Inches\"]=pd.to_numeric(df[\"Inches\"])\n",
    "df[\"Inches\"].info()"
   ]
  },
  {
   "cell_type": "code",
   "execution_count": 21,
   "metadata": {
    "colab": {
     "base_uri": "https://localhost:8080/"
    },
    "id": "WlB1g2YXSLjb",
    "outputId": "7ae6b2b3-2c73-4f84-fee1-080c23e8aed4"
   },
   "outputs": [
    {
     "data": {
      "text/plain": [
       "array(['128GB SSD', '128GB Flash Storage', '256GB SSD', '512GB SSD',\n",
       "       '500GB HDD', '256GB Flash Storage', '1TB HDD',\n",
       "       '128GB SSD +  1TB HDD', '256GB SSD +  256GB SSD',\n",
       "       '64GB Flash Storage', '32GB Flash Storage', '256GB SSD +  1TB HDD',\n",
       "       '256GB SSD +  2TB HDD', '32GB SSD', '2TB HDD', '64GB SSD',\n",
       "       '1.0TB Hybrid', '512GB SSD +  1TB HDD', '1TB SSD',\n",
       "       '256GB SSD +  500GB HDD', '128GB SSD +  2TB HDD',\n",
       "       '512GB SSD +  512GB SSD', '16GB SSD', '16GB Flash Storage',\n",
       "       '512GB SSD +  256GB SSD', '512GB SSD +  2TB HDD',\n",
       "       '64GB Flash Storage +  1TB HDD', '180GB SSD', '1TB HDD +  1TB HDD',\n",
       "       '32GB HDD', '1TB SSD +  1TB HDD', '?', '512GB Flash Storage',\n",
       "       '128GB HDD', '240GB SSD', '8GB SSD', '508GB Hybrid', '1.0TB HDD',\n",
       "       '512GB SSD +  1.0TB Hybrid', '256GB SSD +  1.0TB Hybrid'],\n",
       "      dtype=object)"
      ]
     },
     "execution_count": 21,
     "metadata": {},
     "output_type": "execute_result"
    }
   ],
   "source": [
    "df[\"Memory\"].unique()"
   ]
  },
  {
   "cell_type": "code",
   "execution_count": 22,
   "metadata": {
    "colab": {
     "base_uri": "https://localhost:8080/"
    },
    "id": "FZDkT2suUtnV",
    "outputId": "e528da37-54d1-4dcf-e44e-f2b0fc3e4e09"
   },
   "outputs": [
    {
     "data": {
      "text/plain": [
       "array(['128GB SSD', '128GB Flash Storage', '256GB SSD', '512GB SSD',\n",
       "       '500GB HDD', '256GB Flash Storage', '1TB HDD',\n",
       "       '128GB SSD +  1TB HDD', '256GB SSD +  256GB SSD',\n",
       "       '64GB Flash Storage', '32GB Flash Storage', '256GB SSD +  1TB HDD',\n",
       "       '256GB SSD +  2TB HDD', '32GB SSD', '2TB HDD', '64GB SSD',\n",
       "       '1.0TB Hybrid', '512GB SSD +  1TB HDD', '1TB SSD',\n",
       "       '256GB SSD +  500GB HDD', '128GB SSD +  2TB HDD',\n",
       "       '512GB SSD +  512GB SSD', '16GB SSD', '16GB Flash Storage',\n",
       "       '512GB SSD +  256GB SSD', '512GB SSD +  2TB HDD',\n",
       "       '64GB Flash Storage +  1TB HDD', '180GB SSD', '1TB HDD +  1TB HDD',\n",
       "       '32GB HDD', '1TB SSD +  1TB HDD', '512GB Flash Storage',\n",
       "       '128GB HDD', '240GB SSD', '8GB SSD', '508GB Hybrid', '1.0TB HDD',\n",
       "       '512GB SSD +  1.0TB Hybrid', '256GB SSD +  1.0TB Hybrid'],\n",
       "      dtype=object)"
      ]
     },
     "execution_count": 22,
     "metadata": {},
     "output_type": "execute_result"
    }
   ],
   "source": [
    "df=df.drop(index=df[df[\"Memory\"]==\"?\"].index)\n",
    "df[\"Memory\"].unique()"
   ]
  },
  {
   "cell_type": "code",
   "execution_count": 23,
   "metadata": {
    "colab": {
     "base_uri": "https://localhost:8080/"
    },
    "id": "Sm9v1JDiUNKI",
    "outputId": "5064fc90-9ec4-4010-f2d1-faa771d4891c"
   },
   "outputs": [
    {
     "data": {
      "text/plain": [
       "array([1, 3, 2, 4], dtype=int64)"
      ]
     },
     "execution_count": 23,
     "metadata": {},
     "output_type": "execute_result"
    }
   ],
   "source": [
    "df1=pd.DataFrame({\"Memory\":[\"SSD\",\"HDD\",\"Flash Storage\",\"Hybrid\"]})\n",
    "def fun(storage_type):\n",
    "  if \"SSD\" in storage_type:\n",
    "    return 1\n",
    "  elif \"HDD\" in storage_type:\n",
    "    return 2\n",
    "  elif \"Flash Storage\" in storage_type:\n",
    "    return 3\n",
    "  elif \"Hybrid\" in storage_type:\n",
    "    return 4\n",
    "  else:\n",
    "    return 0\n",
    "df[\"storage_type\"]=df[\"Memory\"].apply(fun)\n",
    "df[\"storage_type\"].unique()"
   ]
  },
  {
   "cell_type": "code",
   "execution_count": 24,
   "metadata": {
    "colab": {
     "base_uri": "https://localhost:8080/"
    },
    "id": "XuhrkCWvXlyg",
    "outputId": "285fb1a6-d570-4635-8c5c-75852d3a17a1"
   },
   "outputs": [
    {
     "data": {
      "text/plain": [
       "array([1.20e-01, 2.50e-01, 5.00e-01, 4.90e-01, 1.00e+00, 1.28e+02,\n",
       "       6.00e-02, 3.00e-02, 2.56e+02, 2.00e+00, 5.12e+02, 7.40e-01,\n",
       "       2.00e-02, 7.50e-01, 6.40e+01, 1.80e-01, 2.30e-01, 1.00e-02])"
      ]
     },
     "execution_count": 24,
     "metadata": {},
     "output_type": "execute_result"
    }
   ],
   "source": [
    "import re\n",
    "df2=pd.DataFrame({\"size\":['128GB SSD', '128GB Flash Storage', '256GB SSD', '512GB SSD',\n",
    "       '500GB HDD', '256GB Flash Storage', '1TB HDD',\n",
    "       '128GB SSD +  1TB HDD', '256GB SSD +  256GB SSD',\n",
    "       '64GB Flash Storage', '32GB Flash Storage', '256GB SSD +  1TB HDD',\n",
    "       '256GB SSD +  2TB HDD', '32GB SSD', '2TB HDD', '64GB SSD',\n",
    "       '1.0TB Hybrid', '512GB SSD +  1TB HDD', '1TB SSD',\n",
    "       '256GB SSD +  500GB HDD', '128GB SSD +  2TB HDD',\n",
    "       '512GB SSD +  512GB SSD', '16GB SSD', '16GB Flash Storage',\n",
    "       '512GB SSD +  256GB SSD', '512GB SSD +  2TB HDD',\n",
    "       '64GB Flash Storage +  1TB HDD', '180GB SSD', '1TB HDD +  1TB HDD',\n",
    "       '32GB HDD', '1TB SSD +  1TB HDD', '512GB Flash Storage',\n",
    "       '128GB HDD', '240GB SSD', '8GB SSD', '508GB Hybrid', '1.0TB HDD',\n",
    "       '512GB SSD +  1.0TB Hybrid', '256GB SSD +  1.0TB Hybrid']})\n",
    "def fun1(storage_size):\n",
    "  numeric=re.findall(r'\\d+',storage_size)\n",
    "  floatv=[float(value) for value in numeric]\n",
    "  if \"TB\" in storage_size:\n",
    "    floatv[0]*=1024\n",
    "  total=sum(floatv)\n",
    "  totalgb=round(total/1024,2)\n",
    "  return totalgb\n",
    "df[\"storage_size\"]=df[\"Memory\"].apply(fun1)\n",
    "df[\"storage_size\"].unique()"
   ]
  },
  {
   "cell_type": "code",
   "execution_count": 25,
   "metadata": {
    "colab": {
     "base_uri": "https://localhost:8080/"
    },
    "id": "udbs6SjbaWcA",
    "outputId": "c3a2e61c-6fb7-4b2c-f7ef-8ccde40fe955"
   },
   "outputs": [
    {
     "data": {
      "text/plain": [
       "array([1.20e-01, 2.50e-01, 5.00e-01, 4.90e-01, 1.00e+00, 1.28e+02,\n",
       "       6.00e-02, 3.00e-02, 2.56e+02, 2.00e+00, 5.12e+02, 7.40e-01,\n",
       "       2.00e-02, 7.50e-01, 6.40e+01, 1.80e-01, 2.30e-01, 1.00e-02])"
      ]
     },
     "execution_count": 25,
     "metadata": {},
     "output_type": "execute_result"
    }
   ],
   "source": [
    "df[\"storage_size\"]=df[\"storage_size\"].round(2)\n",
    "df[\"storage_size\"].unique()"
   ]
  },
  {
   "cell_type": "code",
   "execution_count": 26,
   "metadata": {
    "colab": {
     "base_uri": "https://localhost:8080/"
    },
    "id": "Erhpxa3hbhbP",
    "outputId": "49de76bb-fd73-4f73-d941-64b95dcb6359"
   },
   "outputs": [
    {
     "data": {
      "text/plain": [
       "array(['Apple', 'HP', 'Acer', 'Asus', 'Dell', 'Lenovo', 'Chuwi', 'MSI',\n",
       "       'Microsoft', 'Toshiba', 'Huawei', 'Xiaomi', 'Vero', 'Razer',\n",
       "       'Mediacom', 'Samsung', 'Google', 'Fujitsu', 'LG'], dtype=object)"
      ]
     },
     "execution_count": 26,
     "metadata": {},
     "output_type": "execute_result"
    }
   ],
   "source": [
    "df[\"Company\"].unique()"
   ]
  },
  {
   "cell_type": "code",
   "execution_count": 27,
   "metadata": {
    "colab": {
     "base_uri": "https://localhost:8080/"
    },
    "id": "z3UN3lccaXpK",
    "outputId": "46974797-256d-4496-bd34-fa51bfc9cc64"
   },
   "outputs": [
    {
     "data": {
      "text/plain": [
       "array([ 1,  2,  3,  4,  5,  6,  7,  8,  9, 10, 11, 12, 13, 14, 15, 16, 17,\n",
       "       18, 19], dtype=int64)"
      ]
     },
     "execution_count": 27,
     "metadata": {},
     "output_type": "execute_result"
    }
   ],
   "source": [
    "def fun2(company):\n",
    "  if company==\"Apple\":\n",
    "    return 1\n",
    "  elif company==\"HP\":\n",
    "    return 2\n",
    "  elif company==\"Acer\":\n",
    "    return 3\n",
    "  elif company==\"Asus\":\n",
    "    return 4\n",
    "  elif company==\"Dell\":\n",
    "    return 5\n",
    "  elif company==\"Lenovo\":\n",
    "    return 6\n",
    "  elif company==\"Chuwi\":\n",
    "    return 7\n",
    "  elif company==\"MSI\":\n",
    "    return 8\n",
    "  elif company==\"Microsoft\":\n",
    "    return 9\n",
    "  elif company==\"Toshiba\":\n",
    "    return 10\n",
    "  elif company==\"Huawei\":\n",
    "    return 11\n",
    "  elif company==\"Xiaomi\":\n",
    "    return 12\n",
    "  elif company==\"Vero\":\n",
    "    return 13\n",
    "  elif company==\"Razer\":\n",
    "    return 14\n",
    "  elif company==\"Mediacom\":\n",
    "    return 15\n",
    "  elif company==\"Samsung\":\n",
    "    return 16\n",
    "  elif company==\"Google\":\n",
    "    return 17\n",
    "  elif company==\"Fujitsu\":\n",
    "    return 18\n",
    "  elif company==\"LG\":\n",
    "    return 19\n",
    "df[\"company\"]=df[\"Company\"].apply(fun2)\n",
    "df[\"company\"].unique()"
   ]
  },
  {
   "cell_type": "code",
   "execution_count": 28,
   "metadata": {
    "colab": {
     "base_uri": "https://localhost:8080/"
    },
    "id": "CoDSI16jdZ5x",
    "outputId": "f292df07-111a-4906-b305-1b21c5dfaae1"
   },
   "outputs": [
    {
     "data": {
      "text/plain": [
       "array(['IPS Panel Retina Display 2560x1600', '1440x900',\n",
       "       'Full HD 1920x1080', 'IPS Panel Retina Display 2880x1800',\n",
       "       '1366x768', 'IPS Panel Full HD 1920x1080',\n",
       "       'IPS Panel Retina Display 2304x1440',\n",
       "       'IPS Panel Full HD / Touchscreen 1920x1080',\n",
       "       'Full HD / Touchscreen 1920x1080',\n",
       "       'Touchscreen / Quad HD+ 3200x1800', 'Touchscreen 2256x1504',\n",
       "       'Quad HD+ / Touchscreen 3200x1800', 'IPS Panel 1366x768',\n",
       "       'IPS Panel 4K Ultra HD / Touchscreen 3840x2160',\n",
       "       'IPS Panel Full HD 2160x1440',\n",
       "       '4K Ultra HD / Touchscreen 3840x2160', '1600x900',\n",
       "       'IPS Panel 4K Ultra HD 3840x2160', '4K Ultra HD 3840x2160',\n",
       "       'Touchscreen 1366x768', 'Touchscreen 2560x1440',\n",
       "       'IPS Panel Full HD 1366x768', 'IPS Panel 2560x1440',\n",
       "       'IPS Panel Full HD 2560x1440',\n",
       "       'IPS Panel Retina Display 2736x1824', 'Touchscreen 2400x1600',\n",
       "       '2560x1440', 'IPS Panel Quad HD+ 2560x1440',\n",
       "       'IPS Panel Quad HD+ 3200x1800',\n",
       "       'IPS Panel Quad HD+ / Touchscreen 3200x1800',\n",
       "       'IPS Panel Touchscreen 1366x768', '1920x1080',\n",
       "       'IPS Panel Full HD 1920x1200',\n",
       "       'IPS Panel Touchscreen / 4K Ultra HD 3840x2160',\n",
       "       'IPS Panel Touchscreen 2560x1440',\n",
       "       'Touchscreen / Full HD 1920x1080', 'Quad HD+ 3200x1800',\n",
       "       'IPS Panel Touchscreen 1920x1200',\n",
       "       'Touchscreen / 4K Ultra HD 3840x2160',\n",
       "       'IPS Panel Touchscreen 2400x1600'], dtype=object)"
      ]
     },
     "execution_count": 28,
     "metadata": {},
     "output_type": "execute_result"
    }
   ],
   "source": [
    "df[\"ScreenResolution\"].unique()"
   ]
  },
  {
   "cell_type": "code",
   "execution_count": 29,
   "metadata": {
    "colab": {
     "base_uri": "https://localhost:8080/"
    },
    "id": "IJq7p1qqevhL",
    "outputId": "4bb62bf0-323a-4570-9a2b-e8c010c623a2"
   },
   "outputs": [
    {
     "data": {
      "text/plain": [
       "array([0, 1], dtype=int64)"
      ]
     },
     "execution_count": 29,
     "metadata": {},
     "output_type": "execute_result"
    }
   ],
   "source": [
    "def fun3(screen):\n",
    "  if \"Touchscreen\" in screen:\n",
    "    return 1\n",
    "  else:\n",
    "    return 0\n",
    "df[\"touchscreen\"]=df[\"ScreenResolution\"].apply(fun3)\n",
    "df[\"touchscreen\"].unique()"
   ]
  },
  {
   "cell_type": "code",
   "execution_count": 30,
   "metadata": {
    "colab": {
     "base_uri": "https://localhost:8080/"
    },
    "id": "wJpv8-TGd4il",
    "outputId": "8a9f9d33-c485-4bdf-9b75-20bac1fac93e"
   },
   "outputs": [
    {
     "data": {
      "text/plain": [
       "0        1\n",
       "1        2\n",
       "2       11\n",
       "3        3\n",
       "4        1\n",
       "        ..\n",
       "1296     9\n",
       "1297     9\n",
       "1298    11\n",
       "1299    12\n",
       "1300     9\n",
       "Name: resolution, Length: 1268, dtype: int64"
      ]
     },
     "execution_count": 30,
     "metadata": {},
     "output_type": "execute_result"
    }
   ],
   "source": [
    "df3={'2560x1600':1,'1440x900':2,\n",
    "       '2880x1800':3,'2304x1440':4,'2256x1504':5,'2160x1440':6, '1600x900':7,'2736x1824':8,\n",
    "       '1366x768':9,'2560x1440':10,'1920x1080':11,'3200x1800':12,'1920x1200':13,'3840x2160':14,'2400x1600':15}\n",
    "def fun4(row):\n",
    "    for key in df3:\n",
    "        if key in row:\n",
    "            return df3[key]\n",
    "    return None\n",
    "df['resolution'] = df['ScreenResolution'].apply(fun4)\n",
    "df[\"resolution\"]"
   ]
  },
  {
   "cell_type": "code",
   "execution_count": 31,
   "metadata": {
    "colab": {
     "base_uri": "https://localhost:8080/"
    },
    "id": "8SEUD_EpqQRr",
    "outputId": "e419ca82-fde0-4863-c977-3698f7da9d48"
   },
   "outputs": [
    {
     "data": {
      "text/plain": [
       "array([ 1,  2, 11,  3,  9,  4, 12,  5, 14,  6,  7, 10,  8, 15, 13],\n",
       "      dtype=int64)"
      ]
     },
     "execution_count": 31,
     "metadata": {},
     "output_type": "execute_result"
    }
   ],
   "source": [
    "df[\"resolution\"].unique()"
   ]
  },
  {
   "cell_type": "code",
   "execution_count": 32,
   "metadata": {
    "colab": {
     "base_uri": "https://localhost:8080/",
     "height": 452
    },
    "id": "CqJeQhv6pWvZ",
    "outputId": "102e88e3-1d9d-4cb4-dc7c-6e8949da3f39"
   },
   "outputs": [
    {
     "data": {
      "text/html": [
       "<div>\n",
       "<style scoped>\n",
       "    .dataframe tbody tr th:only-of-type {\n",
       "        vertical-align: middle;\n",
       "    }\n",
       "\n",
       "    .dataframe tbody tr th {\n",
       "        vertical-align: top;\n",
       "    }\n",
       "\n",
       "    .dataframe thead th {\n",
       "        text-align: right;\n",
       "    }\n",
       "</style>\n",
       "<table border=\"1\" class=\"dataframe\">\n",
       "  <thead>\n",
       "    <tr style=\"text-align: right;\">\n",
       "      <th></th>\n",
       "      <th>Company</th>\n",
       "      <th>TypeName</th>\n",
       "      <th>Inches</th>\n",
       "      <th>ScreenResolution</th>\n",
       "      <th>Cpu</th>\n",
       "      <th>Ram</th>\n",
       "      <th>Memory</th>\n",
       "      <th>Gpu</th>\n",
       "      <th>OpSys</th>\n",
       "      <th>Weight</th>\n",
       "      <th>Price</th>\n",
       "      <th>weight</th>\n",
       "      <th>storage_type</th>\n",
       "      <th>storage_size</th>\n",
       "      <th>company</th>\n",
       "      <th>touchscreen</th>\n",
       "      <th>resolution</th>\n",
       "    </tr>\n",
       "  </thead>\n",
       "  <tbody>\n",
       "    <tr>\n",
       "      <th>0</th>\n",
       "      <td>Apple</td>\n",
       "      <td>Ultrabook</td>\n",
       "      <td>13.3</td>\n",
       "      <td>IPS Panel Retina Display 2560x1600</td>\n",
       "      <td>Intel Core i5 2.3GHz</td>\n",
       "      <td>8</td>\n",
       "      <td>128GB SSD</td>\n",
       "      <td>Intel Iris Plus Graphics 640</td>\n",
       "      <td>macOS</td>\n",
       "      <td>1.37</td>\n",
       "      <td>71378.6832</td>\n",
       "      <td>1.37kg</td>\n",
       "      <td>1</td>\n",
       "      <td>0.12</td>\n",
       "      <td>1</td>\n",
       "      <td>0</td>\n",
       "      <td>1</td>\n",
       "    </tr>\n",
       "    <tr>\n",
       "      <th>1</th>\n",
       "      <td>Apple</td>\n",
       "      <td>Ultrabook</td>\n",
       "      <td>13.3</td>\n",
       "      <td>1440x900</td>\n",
       "      <td>Intel Core i5 1.8GHz</td>\n",
       "      <td>8</td>\n",
       "      <td>128GB Flash Storage</td>\n",
       "      <td>Intel HD Graphics 6000</td>\n",
       "      <td>macOS</td>\n",
       "      <td>1.34</td>\n",
       "      <td>47895.5232</td>\n",
       "      <td>1.34kg</td>\n",
       "      <td>3</td>\n",
       "      <td>0.12</td>\n",
       "      <td>1</td>\n",
       "      <td>0</td>\n",
       "      <td>2</td>\n",
       "    </tr>\n",
       "    <tr>\n",
       "      <th>2</th>\n",
       "      <td>HP</td>\n",
       "      <td>Notebook</td>\n",
       "      <td>15.6</td>\n",
       "      <td>Full HD 1920x1080</td>\n",
       "      <td>Intel Core i5 7200U 2.5GHz</td>\n",
       "      <td>8</td>\n",
       "      <td>256GB SSD</td>\n",
       "      <td>Intel HD Graphics 620</td>\n",
       "      <td>No OS</td>\n",
       "      <td>1.86</td>\n",
       "      <td>30636.0000</td>\n",
       "      <td>1.86kg</td>\n",
       "      <td>1</td>\n",
       "      <td>0.25</td>\n",
       "      <td>2</td>\n",
       "      <td>0</td>\n",
       "      <td>11</td>\n",
       "    </tr>\n",
       "    <tr>\n",
       "      <th>3</th>\n",
       "      <td>Apple</td>\n",
       "      <td>Ultrabook</td>\n",
       "      <td>15.4</td>\n",
       "      <td>IPS Panel Retina Display 2880x1800</td>\n",
       "      <td>Intel Core i7 2.7GHz</td>\n",
       "      <td>16</td>\n",
       "      <td>512GB SSD</td>\n",
       "      <td>AMD Radeon Pro 455</td>\n",
       "      <td>macOS</td>\n",
       "      <td>1.83</td>\n",
       "      <td>135195.3360</td>\n",
       "      <td>1.83kg</td>\n",
       "      <td>1</td>\n",
       "      <td>0.50</td>\n",
       "      <td>1</td>\n",
       "      <td>0</td>\n",
       "      <td>3</td>\n",
       "    </tr>\n",
       "    <tr>\n",
       "      <th>4</th>\n",
       "      <td>Apple</td>\n",
       "      <td>Ultrabook</td>\n",
       "      <td>13.3</td>\n",
       "      <td>IPS Panel Retina Display 2560x1600</td>\n",
       "      <td>Intel Core i5 3.1GHz</td>\n",
       "      <td>8</td>\n",
       "      <td>256GB SSD</td>\n",
       "      <td>Intel Iris Plus Graphics 650</td>\n",
       "      <td>macOS</td>\n",
       "      <td>1.37</td>\n",
       "      <td>96095.8080</td>\n",
       "      <td>1.37kg</td>\n",
       "      <td>1</td>\n",
       "      <td>0.25</td>\n",
       "      <td>1</td>\n",
       "      <td>0</td>\n",
       "      <td>1</td>\n",
       "    </tr>\n",
       "  </tbody>\n",
       "</table>\n",
       "</div>"
      ],
      "text/plain": [
       "  Company   TypeName  Inches                    ScreenResolution  \\\n",
       "0   Apple  Ultrabook    13.3  IPS Panel Retina Display 2560x1600   \n",
       "1   Apple  Ultrabook    13.3                            1440x900   \n",
       "2      HP   Notebook    15.6                   Full HD 1920x1080   \n",
       "3   Apple  Ultrabook    15.4  IPS Panel Retina Display 2880x1800   \n",
       "4   Apple  Ultrabook    13.3  IPS Panel Retina Display 2560x1600   \n",
       "\n",
       "                          Cpu  Ram               Memory  \\\n",
       "0        Intel Core i5 2.3GHz    8            128GB SSD   \n",
       "1        Intel Core i5 1.8GHz    8  128GB Flash Storage   \n",
       "2  Intel Core i5 7200U 2.5GHz    8            256GB SSD   \n",
       "3        Intel Core i7 2.7GHz   16            512GB SSD   \n",
       "4        Intel Core i5 3.1GHz    8            256GB SSD   \n",
       "\n",
       "                            Gpu  OpSys  Weight        Price  weight  \\\n",
       "0  Intel Iris Plus Graphics 640  macOS    1.37   71378.6832  1.37kg   \n",
       "1        Intel HD Graphics 6000  macOS    1.34   47895.5232  1.34kg   \n",
       "2         Intel HD Graphics 620  No OS    1.86   30636.0000  1.86kg   \n",
       "3            AMD Radeon Pro 455  macOS    1.83  135195.3360  1.83kg   \n",
       "4  Intel Iris Plus Graphics 650  macOS    1.37   96095.8080  1.37kg   \n",
       "\n",
       "   storage_type  storage_size  company  touchscreen  resolution  \n",
       "0             1          0.12        1            0           1  \n",
       "1             3          0.12        1            0           2  \n",
       "2             1          0.25        2            0          11  \n",
       "3             1          0.50        1            0           3  \n",
       "4             1          0.25        1            0           1  "
      ]
     },
     "execution_count": 32,
     "metadata": {},
     "output_type": "execute_result"
    }
   ],
   "source": [
    "df.head()"
   ]
  },
  {
   "cell_type": "code",
   "execution_count": 33,
   "metadata": {
    "colab": {
     "base_uri": "https://localhost:8080/"
    },
    "id": "6yzxQO_JsTqr",
    "outputId": "c560eb2f-2cb2-4fd4-d7dc-153577ef58b3"
   },
   "outputs": [
    {
     "data": {
      "text/plain": [
       "0          Intel Core i5 2.3GHz\n",
       "1          Intel Core i5 1.8GHz\n",
       "2    Intel Core i5 7200U 2.5GHz\n",
       "3          Intel Core i7 2.7GHz\n",
       "4          Intel Core i5 3.1GHz\n",
       "Name: Cpu, dtype: object"
      ]
     },
     "execution_count": 33,
     "metadata": {},
     "output_type": "execute_result"
    }
   ],
   "source": [
    "df[\"Cpu\"].head()"
   ]
  },
  {
   "cell_type": "code",
   "execution_count": 34,
   "metadata": {
    "colab": {
     "base_uri": "https://localhost:8080/"
    },
    "id": "gqg9-7GTqhx0",
    "outputId": "aebb03d7-e565-4f50-8222-aac2fe5a364c"
   },
   "outputs": [
    {
     "data": {
      "text/plain": [
       "0       1\n",
       "1       1\n",
       "2       1\n",
       "3       1\n",
       "4       1\n",
       "       ..\n",
       "1296    1\n",
       "1297    1\n",
       "1298    1\n",
       "1299    1\n",
       "1300    1\n",
       "Name: cpu, Length: 1268, dtype: int64"
      ]
     },
     "execution_count": 34,
     "metadata": {},
     "output_type": "execute_result"
    }
   ],
   "source": [
    "df4={\"Intel\":1,\"AMD\":2,\"Samsung\":3}\n",
    "def fun4(row):\n",
    "    for key in df4:\n",
    "        if pd.notna(row) and key in row:\n",
    "            return key\n",
    "    return None\n",
    "df['cpu'] = df['Cpu'].apply(fun4).map(df4)\n",
    "df[\"cpu\"]"
   ]
  },
  {
   "cell_type": "code",
   "execution_count": 35,
   "metadata": {
    "colab": {
     "base_uri": "https://localhost:8080/"
    },
    "id": "h_yDxdNju5F_",
    "outputId": "723057ef-08ce-4128-d8b5-78f53d1c686d"
   },
   "outputs": [
    {
     "data": {
      "text/plain": [
       "array([1, 2, 3], dtype=int64)"
      ]
     },
     "execution_count": 35,
     "metadata": {},
     "output_type": "execute_result"
    }
   ],
   "source": [
    "df[\"cpu\"].unique()"
   ]
  },
  {
   "cell_type": "code",
   "execution_count": 36,
   "metadata": {
    "colab": {
     "base_uri": "https://localhost:8080/"
    },
    "id": "_RFmJ_SRybO5",
    "outputId": "33632970-e6af-4c1d-c6e1-0a1d931adfd5"
   },
   "outputs": [
    {
     "data": {
      "text/plain": [
       "array(['Intel Iris Plus Graphics 640', 'Intel HD Graphics 6000',\n",
       "       'Intel HD Graphics 620', 'AMD Radeon Pro 455',\n",
       "       'Intel Iris Plus Graphics 650', 'AMD Radeon R5',\n",
       "       'Intel Iris Pro Graphics', 'Nvidia GeForce MX150',\n",
       "       'Intel UHD Graphics 620', 'Intel HD Graphics 520',\n",
       "       'AMD Radeon Pro 555', 'AMD Radeon R5 M430',\n",
       "       'Intel HD Graphics 615', 'AMD Radeon Pro 560',\n",
       "       'Nvidia GeForce 940MX', 'Nvidia GeForce GTX 1050', 'AMD Radeon R2',\n",
       "       'AMD Radeon 530', 'Nvidia GeForce 930MX', 'Intel HD Graphics',\n",
       "       'Intel HD Graphics 500', 'Nvidia GeForce 930MX ',\n",
       "       'Nvidia GeForce GTX 1060', 'Nvidia GeForce 150MX',\n",
       "       'Intel Iris Graphics 540', 'AMD Radeon RX 580',\n",
       "       'Nvidia GeForce 920MX', 'AMD Radeon R4 Graphics', 'AMD Radeon 520',\n",
       "       'Nvidia GeForce GTX 1070', 'Nvidia GeForce GTX 1050 Ti',\n",
       "       'Intel HD Graphics 400', 'Nvidia GeForce MX130', 'AMD R4 Graphics',\n",
       "       'Nvidia GeForce GTX 940MX', 'AMD Radeon RX 560',\n",
       "       'Nvidia GeForce 920M', 'AMD Radeon R7 M445', 'AMD Radeon RX 550',\n",
       "       'Nvidia GeForce GTX 1050M', 'Intel HD Graphics 515',\n",
       "       'AMD Radeon R5 M420', 'Intel HD Graphics 505',\n",
       "       'Nvidia GTX 980 SLI', 'AMD R17M-M1-70', 'Nvidia GeForce GTX 1080',\n",
       "       'Nvidia Quadro M1200', 'Nvidia GeForce 920MX ',\n",
       "       'Nvidia GeForce GTX 950M', 'AMD FirePro W4190M ',\n",
       "       'Nvidia GeForce GTX 980M', 'Intel Iris Graphics 550',\n",
       "       'Nvidia GeForce 930M', 'Intel HD Graphics 630',\n",
       "       'AMD Radeon R5 430', 'Nvidia GeForce GTX 940M',\n",
       "       'Intel HD Graphics 510', 'Intel HD Graphics 405',\n",
       "       'AMD Radeon RX 540', 'Nvidia GeForce GT 940MX',\n",
       "       'AMD FirePro W5130M', 'Nvidia Quadro M2200M', 'AMD Radeon R4',\n",
       "       'Nvidia Quadro M620', 'AMD Radeon R7 M460',\n",
       "       'Intel HD Graphics 530', 'Nvidia GeForce GTX 965M',\n",
       "       'Nvidia GeForce GTX1080', 'Nvidia GeForce GTX1050 Ti',\n",
       "       'Nvidia GeForce GTX 960M', 'AMD Radeon R2 Graphics',\n",
       "       'Nvidia Quadro M620M', 'Nvidia GeForce GTX 970M',\n",
       "       'Nvidia GeForce GTX 960<U+039C>', 'Intel Graphics 620',\n",
       "       'Nvidia GeForce GTX 960', 'AMD Radeon R5 520',\n",
       "       'AMD Radeon R7 M440', 'AMD Radeon R7', 'Nvidia Quadro M520M',\n",
       "       'Nvidia Quadro M2200', 'Nvidia Quadro M2000M',\n",
       "       'Intel HD Graphics 540', 'Nvidia Quadro M1000M', 'AMD Radeon 540',\n",
       "       'Nvidia GeForce GTX 1070M', 'Nvidia GeForce GTX1060',\n",
       "       'Intel HD Graphics 5300', 'AMD Radeon R5 M420X',\n",
       "       'AMD Radeon R7 Graphics', 'Nvidia GeForce 920',\n",
       "       'Nvidia GeForce 940M', 'Nvidia GeForce GTX 930MX',\n",
       "       'AMD Radeon R7 M465', 'AMD Radeon R3', 'Nvidia GeForce GTX 1050Ti',\n",
       "       'AMD Radeon R7 M365X', 'AMD Radeon R9 M385',\n",
       "       'Intel HD Graphics 620 ', 'Nvidia Quadro 3000M',\n",
       "       'Nvidia GeForce GTX 980 ', 'AMD Radeon R5 M330',\n",
       "       'AMD FirePro W4190M', 'AMD FirePro W6150M', 'AMD Radeon R5 M315',\n",
       "       'Nvidia Quadro M500M', 'AMD Radeon R7 M360',\n",
       "       'Nvidia Quadro M3000M', 'Nvidia GeForce 960M', 'ARM Mali T860 MP4'],\n",
       "      dtype=object)"
      ]
     },
     "execution_count": 36,
     "metadata": {},
     "output_type": "execute_result"
    }
   ],
   "source": [
    "df[\"Gpu\"].unique()"
   ]
  },
  {
   "cell_type": "code",
   "execution_count": 37,
   "metadata": {
    "colab": {
     "base_uri": "https://localhost:8080/"
    },
    "id": "ri7r0MhVzG_1",
    "outputId": "b5d55879-5b2e-4253-c567-8a1ddd515b9e"
   },
   "outputs": [
    {
     "data": {
      "text/plain": [
       "0       1\n",
       "1       1\n",
       "2       1\n",
       "3       2\n",
       "4       1\n",
       "       ..\n",
       "1296    1\n",
       "1297    3\n",
       "1298    1\n",
       "1299    1\n",
       "1300    1\n",
       "Name: gpu, Length: 1268, dtype: int64"
      ]
     },
     "execution_count": 37,
     "metadata": {},
     "output_type": "execute_result"
    }
   ],
   "source": [
    "df5={\"Intel\":1,\"AMD\":2,\"Nvidia\":3,\"ARM\":4}\n",
    "def fun5(row):\n",
    "    for key in df5:\n",
    "        if pd.notna(row) and key in row:\n",
    "            return key\n",
    "    return None\n",
    "df['gpu']=df['Gpu'].apply(fun5).map(df5)\n",
    "df[\"gpu\"]"
   ]
  },
  {
   "cell_type": "code",
   "execution_count": 38,
   "metadata": {
    "colab": {
     "base_uri": "https://localhost:8080/"
    },
    "id": "9ft09Ayfzh8c",
    "outputId": "d47bf31e-c339-484c-9894-62bdbf4cb862"
   },
   "outputs": [
    {
     "data": {
      "text/plain": [
       "array([1, 2, 3, 4], dtype=int64)"
      ]
     },
     "execution_count": 38,
     "metadata": {},
     "output_type": "execute_result"
    }
   ],
   "source": [
    "df[\"gpu\"].unique()"
   ]
  },
  {
   "cell_type": "code",
   "execution_count": 39,
   "metadata": {},
   "outputs": [
    {
     "data": {
      "text/plain": [
       "0     71378\n",
       "1     47895\n",
       "2     30636\n",
       "3    135195\n",
       "4     96095\n",
       "Name: Price, dtype: int32"
      ]
     },
     "execution_count": 39,
     "metadata": {},
     "output_type": "execute_result"
    }
   ],
   "source": [
    "df[\"Price\"]=df[\"Price\"].astype(int)\n",
    "df[\"Price\"][:5]"
   ]
  },
  {
   "cell_type": "code",
   "execution_count": 40,
   "metadata": {},
   "outputs": [
    {
     "data": {
      "text/plain": [
       "0"
      ]
     },
     "execution_count": 40,
     "metadata": {},
     "output_type": "execute_result"
    }
   ],
   "source": [
    "df=df[~df[\"Price\"]<0]\n",
    "(df[\"Price\"]<0).sum()"
   ]
  },
  {
   "cell_type": "code",
   "execution_count": null,
   "metadata": {
    "colab": {
     "base_uri": "https://localhost:8080/"
    },
    "id": "JXfefgGjsBLg",
    "outputId": "56765625-0e5c-4366-9092-91fc62d6f4b8"
   },
   "outputs": [],
   "source": [
    "df.columns"
   ]
  },
  {
   "cell_type": "code",
   "execution_count": 42,
   "metadata": {
    "id": "HhetZtkDsE4x"
   },
   "outputs": [],
   "source": [
    "df.drop(['Company','TypeName','ScreenResolution', 'Cpu','Memory', 'Gpu', 'OpSys',\"weight\"],axis=1,inplace=True)"
   ]
  },
  {
   "cell_type": "code",
   "execution_count": 43,
   "metadata": {
    "colab": {
     "base_uri": "https://localhost:8080/",
     "height": 424
    },
    "id": "5ZfKJl5Sv_ya",
    "outputId": "08a7b9cd-5746-40a5-9a98-2531e8c28fb3"
   },
   "outputs": [
    {
     "data": {
      "text/html": [
       "<div>\n",
       "<style scoped>\n",
       "    .dataframe tbody tr th:only-of-type {\n",
       "        vertical-align: middle;\n",
       "    }\n",
       "\n",
       "    .dataframe tbody tr th {\n",
       "        vertical-align: top;\n",
       "    }\n",
       "\n",
       "    .dataframe thead th {\n",
       "        text-align: right;\n",
       "    }\n",
       "</style>\n",
       "<table border=\"1\" class=\"dataframe\">\n",
       "  <thead>\n",
       "    <tr style=\"text-align: right;\">\n",
       "      <th></th>\n",
       "      <th>Inches</th>\n",
       "      <th>Ram</th>\n",
       "      <th>Weight</th>\n",
       "      <th>Price</th>\n",
       "      <th>storage_type</th>\n",
       "      <th>storage_size</th>\n",
       "      <th>company</th>\n",
       "      <th>touchscreen</th>\n",
       "      <th>resolution</th>\n",
       "      <th>cpu</th>\n",
       "      <th>gpu</th>\n",
       "    </tr>\n",
       "  </thead>\n",
       "  <tbody>\n",
       "    <tr>\n",
       "      <th>0</th>\n",
       "      <td>13.3</td>\n",
       "      <td>8</td>\n",
       "      <td>1.37</td>\n",
       "      <td>71378</td>\n",
       "      <td>1</td>\n",
       "      <td>0.12</td>\n",
       "      <td>1</td>\n",
       "      <td>0</td>\n",
       "      <td>1</td>\n",
       "      <td>1</td>\n",
       "      <td>1</td>\n",
       "    </tr>\n",
       "    <tr>\n",
       "      <th>1</th>\n",
       "      <td>13.3</td>\n",
       "      <td>8</td>\n",
       "      <td>1.34</td>\n",
       "      <td>47895</td>\n",
       "      <td>3</td>\n",
       "      <td>0.12</td>\n",
       "      <td>1</td>\n",
       "      <td>0</td>\n",
       "      <td>2</td>\n",
       "      <td>1</td>\n",
       "      <td>1</td>\n",
       "    </tr>\n",
       "    <tr>\n",
       "      <th>2</th>\n",
       "      <td>15.6</td>\n",
       "      <td>8</td>\n",
       "      <td>1.86</td>\n",
       "      <td>30636</td>\n",
       "      <td>1</td>\n",
       "      <td>0.25</td>\n",
       "      <td>2</td>\n",
       "      <td>0</td>\n",
       "      <td>11</td>\n",
       "      <td>1</td>\n",
       "      <td>1</td>\n",
       "    </tr>\n",
       "    <tr>\n",
       "      <th>3</th>\n",
       "      <td>15.4</td>\n",
       "      <td>16</td>\n",
       "      <td>1.83</td>\n",
       "      <td>135195</td>\n",
       "      <td>1</td>\n",
       "      <td>0.50</td>\n",
       "      <td>1</td>\n",
       "      <td>0</td>\n",
       "      <td>3</td>\n",
       "      <td>1</td>\n",
       "      <td>2</td>\n",
       "    </tr>\n",
       "    <tr>\n",
       "      <th>4</th>\n",
       "      <td>13.3</td>\n",
       "      <td>8</td>\n",
       "      <td>1.37</td>\n",
       "      <td>96095</td>\n",
       "      <td>1</td>\n",
       "      <td>0.25</td>\n",
       "      <td>1</td>\n",
       "      <td>0</td>\n",
       "      <td>1</td>\n",
       "      <td>1</td>\n",
       "      <td>1</td>\n",
       "    </tr>\n",
       "    <tr>\n",
       "      <th>...</th>\n",
       "      <td>...</td>\n",
       "      <td>...</td>\n",
       "      <td>...</td>\n",
       "      <td>...</td>\n",
       "      <td>...</td>\n",
       "      <td>...</td>\n",
       "      <td>...</td>\n",
       "      <td>...</td>\n",
       "      <td>...</td>\n",
       "      <td>...</td>\n",
       "      <td>...</td>\n",
       "    </tr>\n",
       "    <tr>\n",
       "      <th>1296</th>\n",
       "      <td>11.6</td>\n",
       "      <td>2</td>\n",
       "      <td>1.17</td>\n",
       "      <td>11135</td>\n",
       "      <td>3</td>\n",
       "      <td>0.03</td>\n",
       "      <td>2</td>\n",
       "      <td>0</td>\n",
       "      <td>9</td>\n",
       "      <td>1</td>\n",
       "      <td>1</td>\n",
       "    </tr>\n",
       "    <tr>\n",
       "      <th>1297</th>\n",
       "      <td>15.6</td>\n",
       "      <td>4</td>\n",
       "      <td>2.20</td>\n",
       "      <td>38378</td>\n",
       "      <td>2</td>\n",
       "      <td>0.49</td>\n",
       "      <td>4</td>\n",
       "      <td>0</td>\n",
       "      <td>9</td>\n",
       "      <td>1</td>\n",
       "      <td>3</td>\n",
       "    </tr>\n",
       "    <tr>\n",
       "      <th>1298</th>\n",
       "      <td>14.0</td>\n",
       "      <td>4</td>\n",
       "      <td>1.80</td>\n",
       "      <td>33992</td>\n",
       "      <td>1</td>\n",
       "      <td>0.12</td>\n",
       "      <td>6</td>\n",
       "      <td>1</td>\n",
       "      <td>11</td>\n",
       "      <td>1</td>\n",
       "      <td>1</td>\n",
       "    </tr>\n",
       "    <tr>\n",
       "      <th>1299</th>\n",
       "      <td>13.3</td>\n",
       "      <td>16</td>\n",
       "      <td>1.30</td>\n",
       "      <td>79866</td>\n",
       "      <td>1</td>\n",
       "      <td>0.50</td>\n",
       "      <td>6</td>\n",
       "      <td>1</td>\n",
       "      <td>12</td>\n",
       "      <td>1</td>\n",
       "      <td>1</td>\n",
       "    </tr>\n",
       "    <tr>\n",
       "      <th>1300</th>\n",
       "      <td>14.0</td>\n",
       "      <td>2</td>\n",
       "      <td>1.50</td>\n",
       "      <td>12201</td>\n",
       "      <td>3</td>\n",
       "      <td>0.06</td>\n",
       "      <td>6</td>\n",
       "      <td>0</td>\n",
       "      <td>9</td>\n",
       "      <td>1</td>\n",
       "      <td>1</td>\n",
       "    </tr>\n",
       "  </tbody>\n",
       "</table>\n",
       "<p>1268 rows × 11 columns</p>\n",
       "</div>"
      ],
      "text/plain": [
       "      Inches  Ram  Weight   Price  storage_type  storage_size  company  \\\n",
       "0       13.3    8    1.37   71378             1          0.12        1   \n",
       "1       13.3    8    1.34   47895             3          0.12        1   \n",
       "2       15.6    8    1.86   30636             1          0.25        2   \n",
       "3       15.4   16    1.83  135195             1          0.50        1   \n",
       "4       13.3    8    1.37   96095             1          0.25        1   \n",
       "...      ...  ...     ...     ...           ...           ...      ...   \n",
       "1296    11.6    2    1.17   11135             3          0.03        2   \n",
       "1297    15.6    4    2.20   38378             2          0.49        4   \n",
       "1298    14.0    4    1.80   33992             1          0.12        6   \n",
       "1299    13.3   16    1.30   79866             1          0.50        6   \n",
       "1300    14.0    2    1.50   12201             3          0.06        6   \n",
       "\n",
       "      touchscreen  resolution  cpu  gpu  \n",
       "0               0           1    1    1  \n",
       "1               0           2    1    1  \n",
       "2               0          11    1    1  \n",
       "3               0           3    1    2  \n",
       "4               0           1    1    1  \n",
       "...           ...         ...  ...  ...  \n",
       "1296            0           9    1    1  \n",
       "1297            0           9    1    3  \n",
       "1298            1          11    1    1  \n",
       "1299            1          12    1    1  \n",
       "1300            0           9    1    1  \n",
       "\n",
       "[1268 rows x 11 columns]"
      ]
     },
     "execution_count": 43,
     "metadata": {},
     "output_type": "execute_result"
    }
   ],
   "source": [
    "df"
   ]
  },
  {
   "cell_type": "markdown",
   "metadata": {},
   "source": [
    "# Data Visualization"
   ]
  },
  {
   "cell_type": "code",
   "execution_count": 59,
   "metadata": {},
   "outputs": [
    {
     "data": {
      "image/png": "[encoded data removed]",
      "text/plain": [
       "<Figure size 640x480 with 1 Axes>"
      ]
     },
     "metadata": {},
     "output_type": "display_data"
    },
    {
     "data": {
      "image/png": "[encoded data removed]",
      "text/plain": [
       "<Figure size 640x480 with 1 Axes>"
      ]
     },
     "metadata": {},
     "output_type": "display_data"
    },
    {
     "data": {
      "image/png": "[encoded data removed]",
      "text/plain": [
       "<Figure size 640x480 with 1 Axes>"
      ]
     },
     "metadata": {},
     "output_type": "display_data"
    },
    {
     "data": {
      "image/png": "[encoded data removed]",
      "text/plain": [
       "<Figure size 640x480 with 1 Axes>"
      ]
     },
     "metadata": {},
     "output_type": "display_data"
    },
    {
     "data": {
      "image/png": "[encoded data removed]",
      "text/plain": [
       "<Figure size 640x480 with 1 Axes>"
      ]
     },
     "metadata": {},
     "output_type": "display_data"
    },
    {
     "data": {
      "image/png": "[encoded data removed]",
      "text/plain": [
       "<Figure size 640x480 with 1 Axes>"
      ]
     },
     "metadata": {},
     "output_type": "display_data"
    },
    {
     "data": {
      "image/png": "[encoded data removed]",
      "text/plain": [
       "<Figure size 640x480 with 1 Axes>"
      ]
     },
     "metadata": {},
     "output_type": "display_data"
    },
    {
     "data": {
      "image/png": "[encoded data removed]",
      "text/plain": [
       "<Figure size 640x480 with 1 Axes>"
      ]
     },
     "metadata": {},
     "output_type": "display_data"
    },
    {
     "data": {
      "image/png": "[encoded data removed]",
      "text/plain": [
       "<Figure size 640x480 with 1 Axes>"
      ]
     },
     "metadata": {},
     "output_type": "display_data"
    },
    {
     "data": {
      "image/png": "[encoded data removed]",
      "text/plain": [
       "<Figure size 640x480 with 1 Axes>"
      ]
     },
     "metadata": {},
     "output_type": "display_data"
    }
   ],
   "source": [
    "import matplotlib.pyplot as plt\n",
    "for feature in df[[\"company\",\"Inches\",\"resolution\",\"touchscreen\",\"Ram\",\"storage_size\",\"storage_type\",\"cpu\",\"gpu\",\"Weight\"]]:\n",
    "    plt.scatter(df[feature], df[\"Price\"])\n",
    "    plt.xlabel(feature)\n",
    "    plt.ylabel(\"prices\")\n",
    "    plt.title(f\"laptop {feature} vs prices\")\n",
    "    plt.show()"
   ]
  },
  {
   "cell_type": "markdown",
   "metadata": {},
   "source": [
    "# Removing Outliers"
   ]
  },
  {
   "cell_type": "code",
   "execution_count": 60,
   "metadata": {},
   "outputs": [
    {
     "data": {
      "text/html": [
       "<div>\n",
       "<style scoped>\n",
       "    .dataframe tbody tr th:only-of-type {\n",
       "        vertical-align: middle;\n",
       "    }\n",
       "\n",
       "    .dataframe tbody tr th {\n",
       "        vertical-align: top;\n",
       "    }\n",
       "\n",
       "    .dataframe thead th {\n",
       "        text-align: right;\n",
       "    }\n",
       "</style>\n",
       "<table border=\"1\" class=\"dataframe\">\n",
       "  <thead>\n",
       "    <tr style=\"text-align: right;\">\n",
       "      <th></th>\n",
       "      <th>Inches</th>\n",
       "      <th>Ram</th>\n",
       "      <th>Weight</th>\n",
       "      <th>Price</th>\n",
       "      <th>storage_type</th>\n",
       "      <th>storage_size</th>\n",
       "      <th>company</th>\n",
       "      <th>touchscreen</th>\n",
       "      <th>resolution</th>\n",
       "      <th>cpu</th>\n",
       "      <th>gpu</th>\n",
       "    </tr>\n",
       "  </thead>\n",
       "  <tbody>\n",
       "    <tr>\n",
       "      <th>196</th>\n",
       "      <td>17.3</td>\n",
       "      <td>32</td>\n",
       "      <td>3.49</td>\n",
       "      <td>324954</td>\n",
       "      <td>1</td>\n",
       "      <td>1.00</td>\n",
       "      <td>14</td>\n",
       "      <td>1</td>\n",
       "      <td>14</td>\n",
       "      <td>1</td>\n",
       "      <td>3</td>\n",
       "    </tr>\n",
       "    <tr>\n",
       "      <th>238</th>\n",
       "      <td>17.3</td>\n",
       "      <td>32</td>\n",
       "      <td>4.70</td>\n",
       "      <td>207259</td>\n",
       "      <td>1</td>\n",
       "      <td>512.00</td>\n",
       "      <td>4</td>\n",
       "      <td>0</td>\n",
       "      <td>11</td>\n",
       "      <td>1</td>\n",
       "      <td>3</td>\n",
       "    </tr>\n",
       "    <tr>\n",
       "      <th>610</th>\n",
       "      <td>15.6</td>\n",
       "      <td>32</td>\n",
       "      <td>2.50</td>\n",
       "      <td>261018</td>\n",
       "      <td>1</td>\n",
       "      <td>1.00</td>\n",
       "      <td>6</td>\n",
       "      <td>0</td>\n",
       "      <td>14</td>\n",
       "      <td>1</td>\n",
       "      <td>3</td>\n",
       "    </tr>\n",
       "    <tr>\n",
       "      <th>749</th>\n",
       "      <td>17.3</td>\n",
       "      <td>16</td>\n",
       "      <td>3.00</td>\n",
       "      <td>233845</td>\n",
       "      <td>1</td>\n",
       "      <td>0.25</td>\n",
       "      <td>2</td>\n",
       "      <td>0</td>\n",
       "      <td>11</td>\n",
       "      <td>1</td>\n",
       "      <td>3</td>\n",
       "    </tr>\n",
       "    <tr>\n",
       "      <th>830</th>\n",
       "      <td>17.3</td>\n",
       "      <td>32</td>\n",
       "      <td>3.49</td>\n",
       "      <td>292986</td>\n",
       "      <td>1</td>\n",
       "      <td>0.50</td>\n",
       "      <td>14</td>\n",
       "      <td>1</td>\n",
       "      <td>14</td>\n",
       "      <td>1</td>\n",
       "      <td>3</td>\n",
       "    </tr>\n",
       "    <tr>\n",
       "      <th>1066</th>\n",
       "      <td>17.3</td>\n",
       "      <td>64</td>\n",
       "      <td>3.58</td>\n",
       "      <td>211788</td>\n",
       "      <td>1</td>\n",
       "      <td>1.00</td>\n",
       "      <td>4</td>\n",
       "      <td>0</td>\n",
       "      <td>11</td>\n",
       "      <td>1</td>\n",
       "      <td>3</td>\n",
       "    </tr>\n",
       "    <tr>\n",
       "      <th>1136</th>\n",
       "      <td>17.3</td>\n",
       "      <td>8</td>\n",
       "      <td>3.00</td>\n",
       "      <td>210424</td>\n",
       "      <td>1</td>\n",
       "      <td>0.25</td>\n",
       "      <td>2</td>\n",
       "      <td>0</td>\n",
       "      <td>11</td>\n",
       "      <td>1</td>\n",
       "      <td>3</td>\n",
       "    </tr>\n",
       "  </tbody>\n",
       "</table>\n",
       "</div>"
      ],
      "text/plain": [
       "      Inches  Ram  Weight   Price  storage_type  storage_size  company  \\\n",
       "196     17.3   32    3.49  324954             1          1.00       14   \n",
       "238     17.3   32    4.70  207259             1        512.00        4   \n",
       "610     15.6   32    2.50  261018             1          1.00        6   \n",
       "749     17.3   16    3.00  233845             1          0.25        2   \n",
       "830     17.3   32    3.49  292986             1          0.50       14   \n",
       "1066    17.3   64    3.58  211788             1          1.00        4   \n",
       "1136    17.3    8    3.00  210424             1          0.25        2   \n",
       "\n",
       "      touchscreen  resolution  cpu  gpu  \n",
       "196             1          14    1    3  \n",
       "238             0          11    1    3  \n",
       "610             0          14    1    3  \n",
       "749             0          11    1    3  \n",
       "830             1          14    1    3  \n",
       "1066            0          11    1    3  \n",
       "1136            0          11    1    3  "
      ]
     },
     "execution_count": 60,
     "metadata": {},
     "output_type": "execute_result"
    }
   ],
   "source": [
    "df[df[\"Price\"]>200000]"
   ]
  },
  {
   "cell_type": "code",
   "execution_count": 66,
   "metadata": {},
   "outputs": [
    {
     "data": {
      "text/html": [
       "<div>\n",
       "<style scoped>\n",
       "    .dataframe tbody tr th:only-of-type {\n",
       "        vertical-align: middle;\n",
       "    }\n",
       "\n",
       "    .dataframe tbody tr th {\n",
       "        vertical-align: top;\n",
       "    }\n",
       "\n",
       "    .dataframe thead th {\n",
       "        text-align: right;\n",
       "    }\n",
       "</style>\n",
       "<table border=\"1\" class=\"dataframe\">\n",
       "  <thead>\n",
       "    <tr style=\"text-align: right;\">\n",
       "      <th></th>\n",
       "      <th>Inches</th>\n",
       "      <th>Ram</th>\n",
       "      <th>Weight</th>\n",
       "      <th>Price</th>\n",
       "      <th>storage_type</th>\n",
       "      <th>storage_size</th>\n",
       "      <th>company</th>\n",
       "      <th>touchscreen</th>\n",
       "      <th>resolution</th>\n",
       "      <th>cpu</th>\n",
       "      <th>gpu</th>\n",
       "    </tr>\n",
       "  </thead>\n",
       "  <tbody>\n",
       "    <tr>\n",
       "      <th>238</th>\n",
       "      <td>17.3</td>\n",
       "      <td>32</td>\n",
       "      <td>4.70</td>\n",
       "      <td>207259</td>\n",
       "      <td>1</td>\n",
       "      <td>512.00</td>\n",
       "      <td>4</td>\n",
       "      <td>0</td>\n",
       "      <td>11</td>\n",
       "      <td>1</td>\n",
       "      <td>3</td>\n",
       "    </tr>\n",
       "    <tr>\n",
       "      <th>610</th>\n",
       "      <td>15.6</td>\n",
       "      <td>32</td>\n",
       "      <td>2.50</td>\n",
       "      <td>261018</td>\n",
       "      <td>1</td>\n",
       "      <td>1.00</td>\n",
       "      <td>6</td>\n",
       "      <td>0</td>\n",
       "      <td>14</td>\n",
       "      <td>1</td>\n",
       "      <td>3</td>\n",
       "    </tr>\n",
       "    <tr>\n",
       "      <th>749</th>\n",
       "      <td>17.3</td>\n",
       "      <td>16</td>\n",
       "      <td>3.00</td>\n",
       "      <td>233845</td>\n",
       "      <td>1</td>\n",
       "      <td>0.25</td>\n",
       "      <td>2</td>\n",
       "      <td>0</td>\n",
       "      <td>11</td>\n",
       "      <td>1</td>\n",
       "      <td>3</td>\n",
       "    </tr>\n",
       "    <tr>\n",
       "      <th>830</th>\n",
       "      <td>17.3</td>\n",
       "      <td>32</td>\n",
       "      <td>3.49</td>\n",
       "      <td>292986</td>\n",
       "      <td>1</td>\n",
       "      <td>0.50</td>\n",
       "      <td>14</td>\n",
       "      <td>1</td>\n",
       "      <td>14</td>\n",
       "      <td>1</td>\n",
       "      <td>3</td>\n",
       "    </tr>\n",
       "    <tr>\n",
       "      <th>1066</th>\n",
       "      <td>17.3</td>\n",
       "      <td>64</td>\n",
       "      <td>3.58</td>\n",
       "      <td>211788</td>\n",
       "      <td>1</td>\n",
       "      <td>1.00</td>\n",
       "      <td>4</td>\n",
       "      <td>0</td>\n",
       "      <td>11</td>\n",
       "      <td>1</td>\n",
       "      <td>3</td>\n",
       "    </tr>\n",
       "  </tbody>\n",
       "</table>\n",
       "</div>"
      ],
      "text/plain": [
       "      Inches  Ram  Weight   Price  storage_type  storage_size  company  \\\n",
       "238     17.3   32    4.70  207259             1        512.00        4   \n",
       "610     15.6   32    2.50  261018             1          1.00        6   \n",
       "749     17.3   16    3.00  233845             1          0.25        2   \n",
       "830     17.3   32    3.49  292986             1          0.50       14   \n",
       "1066    17.3   64    3.58  211788             1          1.00        4   \n",
       "\n",
       "      touchscreen  resolution  cpu  gpu  \n",
       "238             0          11    1    3  \n",
       "610             0          14    1    3  \n",
       "749             0          11    1    3  \n",
       "830             1          14    1    3  \n",
       "1066            0          11    1    3  "
      ]
     },
     "execution_count": 66,
     "metadata": {},
     "output_type": "execute_result"
    }
   ],
   "source": [
    "df.drop(labels=[196,1136],axis=0,inplace=True)\n",
    "df[df[\"Price\"]>200000]"
   ]
  },
  {
   "cell_type": "markdown",
   "metadata": {
    "id": "Q99tJ2mr_0sX"
   },
   "source": [
    "## **Building Machine Learning Model**"
   ]
  },
  {
   "cell_type": "code",
   "execution_count": 81,
   "metadata": {
    "id": "wcopJBfv_uzL"
   },
   "outputs": [],
   "source": [
    "from sklearn.ensemble import RandomForestRegressor\n",
    "from sklearn.model_selection import train_test_split"
   ]
  },
  {
   "cell_type": "code",
   "execution_count": 82,
   "metadata": {
    "id": "ouKGvmEPxjs2"
   },
   "outputs": [],
   "source": [
    "inputs=df[[\"company\",\"Inches\",\"resolution\",\"touchscreen\",\"Ram\",\"storage_size\",\"storage_type\",\"cpu\",\"gpu\",\"Weight\"]]"
   ]
  },
  {
   "cell_type": "code",
   "execution_count": 83,
   "metadata": {
    "id": "zIovG6xG0_5n"
   },
   "outputs": [],
   "source": [
    "output=df[\"Price\"]"
   ]
  },
  {
   "cell_type": "code",
   "execution_count": 94,
   "metadata": {
    "id": "rNg-lu_yxb5f"
   },
   "outputs": [],
   "source": [
    "x_train,x_test,y_train,y_test=train_test_split(inputs,output,test_size=0.2,random_state=42)"
   ]
  },
  {
   "cell_type": "code",
   "execution_count": 95,
   "metadata": {
    "id": "NEUf-jJY1wD-"
   },
   "outputs": [],
   "source": [
    "RF=RandomForestRegressor(n_estimators=500)"
   ]
  },
  {
   "cell_type": "code",
   "execution_count": 96,
   "metadata": {
    "colab": {
     "base_uri": "https://localhost:8080/"
    },
    "id": "R0G6W22p6o8T",
    "outputId": "260e7312-957e-486e-df5a-631c2682b720",
    "scrolled": true
   },
   "outputs": [
    {
     "data": {
      "text/html": [
       "<style>#sk-container-id-8 {color: black;background-color: white;}#sk-container-id-8 pre{padding: 0;}#sk-container-id-8 div.sk-toggleable {background-color: white;}#sk-container-id-8 label.sk-toggleable__label {cursor: pointer;display: block;width: 100%;margin-bottom: 0;padding: 0.3em;box-sizing: border-box;text-align: center;}#sk-container-id-8 label.sk-toggleable__label-arrow:before {content: \"▸\";float: left;margin-right: 0.25em;color: #696969;}#sk-container-id-8 label.sk-toggleable__label-arrow:hover:before {color: black;}#sk-container-id-8 div.sk-estimator:hover label.sk-toggleable__label-arrow:before {color: black;}#sk-container-id-8 div.sk-toggleable__content {max-height: 0;max-width: 0;overflow: hidden;text-align: left;background-color: #f0f8ff;}#sk-container-id-8 div.sk-toggleable__content pre {margin: 0.2em;color: black;border-radius: 0.25em;background-color: #f0f8ff;}#sk-container-id-8 input.sk-toggleable__control:checked~div.sk-toggleable__content {max-height: 200px;max-width: 100%;overflow: auto;}#sk-container-id-8 input.sk-toggleable__control:checked~label.sk-toggleable__label-arrow:before {content: \"▾\";}#sk-container-id-8 div.sk-estimator input.sk-toggleable__control:checked~label.sk-toggleable__label {background-color: #d4ebff;}#sk-container-id-8 div.sk-label input.sk-toggleable__control:checked~label.sk-toggleable__label {background-color: #d4ebff;}#sk-container-id-8 input.sk-hidden--visually {border: 0;clip: rect(1px 1px 1px 1px);clip: rect(1px, 1px, 1px, 1px);height: 1px;margin: -1px;overflow: hidden;padding: 0;position: absolute;width: 1px;}#sk-container-id-8 div.sk-estimator {font-family: monospace;background-color: #f0f8ff;border: 1px dotted black;border-radius: 0.25em;box-sizing: border-box;margin-bottom: 0.5em;}#sk-container-id-8 div.sk-estimator:hover {background-color: #d4ebff;}#sk-container-id-8 div.sk-parallel-item::after {content: \"\";width: 100%;border-bottom: 1px solid gray;flex-grow: 1;}#sk-container-id-8 div.sk-label:hover label.sk-toggleable__label {background-color: #d4ebff;}#sk-container-id-8 div.sk-serial::before {content: \"\";position: absolute;border-left: 1px solid gray;box-sizing: border-box;top: 0;bottom: 0;left: 50%;z-index: 0;}#sk-container-id-8 div.sk-serial {display: flex;flex-direction: column;align-items: center;background-color: white;padding-right: 0.2em;padding-left: 0.2em;position: relative;}#sk-container-id-8 div.sk-item {position: relative;z-index: 1;}#sk-container-id-8 div.sk-parallel {display: flex;align-items: stretch;justify-content: center;background-color: white;position: relative;}#sk-container-id-8 div.sk-item::before, #sk-container-id-8 div.sk-parallel-item::before {content: \"\";position: absolute;border-left: 1px solid gray;box-sizing: border-box;top: 0;bottom: 0;left: 50%;z-index: -1;}#sk-container-id-8 div.sk-parallel-item {display: flex;flex-direction: column;z-index: 1;position: relative;background-color: white;}#sk-container-id-8 div.sk-parallel-item:first-child::after {align-self: flex-end;width: 50%;}#sk-container-id-8 div.sk-parallel-item:last-child::after {align-self: flex-start;width: 50%;}#sk-container-id-8 div.sk-parallel-item:only-child::after {width: 0;}#sk-container-id-8 div.sk-dashed-wrapped {border: 1px dashed gray;margin: 0 0.4em 0.5em 0.4em;box-sizing: border-box;padding-bottom: 0.4em;background-color: white;}#sk-container-id-8 div.sk-label label {font-family: monospace;font-weight: bold;display: inline-block;line-height: 1.2em;}#sk-container-id-8 div.sk-label-container {text-align: center;}#sk-container-id-8 div.sk-container {/* jupyter's `normalize.less` sets `[hidden] { display: none; }` but bootstrap.min.css set `[hidden] { display: none !important; }` so we also need the `!important` here to be able to override the default hidden behavior on the sphinx rendered scikit-learn.org. See: https://github.com/scikit-learn/scikit-learn/issues/21755 */display: inline-block !important;position: relative;}#sk-container-id-8 div.sk-text-repr-fallback {display: none;}</style><div id=\"sk-container-id-8\" class=\"sk-top-container\"><div class=\"sk-text-repr-fallback\"><pre>RandomForestRegressor(n_estimators=500)</pre><b>In a Jupyter environment, please rerun this cell to show the HTML representation or trust the notebook. <br />On GitHub, the HTML representation is unable to render, please try loading this page with nbviewer.org.</b></div><div class=\"sk-container\" hidden><div class=\"sk-item\"><div class=\"sk-estimator sk-toggleable\"><input class=\"sk-toggleable__control sk-hidden--visually\" id=\"sk-estimator-id-8\" type=\"checkbox\" checked><label for=\"sk-estimator-id-8\" class=\"sk-toggleable__label sk-toggleable__label-arrow\">RandomForestRegressor</label><div class=\"sk-toggleable__content\"><pre>RandomForestRegressor(n_estimators=500)</pre></div></div></div></div></div>"
      ],
      "text/plain": [
       "RandomForestRegressor(n_estimators=500)"
      ]
     },
     "execution_count": 96,
     "metadata": {},
     "output_type": "execute_result"
    }
   ],
   "source": [
    "RF.fit(x_train,y_train)"
   ]
  },
  {
   "cell_type": "code",
   "execution_count": 98,
   "metadata": {},
   "outputs": [
    {
     "data": {
      "text/plain": [
       "80.95932972474318"
      ]
     },
     "execution_count": 98,
     "metadata": {},
     "output_type": "execute_result"
    }
   ],
   "source": [
    "RF.score(x_test,y_test)*100"
   ]
  }
 ],
 "metadata": {
  "colab": {
   "provenance": []
  },
  "kernelspec": {
   "display_name": "Python 3 (ipykernel)",
   "language": "python",
   "name": "python3"
  },
  "language_info": {
   "codemirror_mode": {
    "name": "ipython",
    "version": 3
   },
   "file_extension": ".py",
   "mimetype": "text/x-python",
   "name": "python",
   "nbconvert_exporter": "python",
   "pygments_lexer": "ipython3",
   "version": "3.10.9"
  }
 },
 "nbformat": 4,
 "nbformat_minor": 1
}
